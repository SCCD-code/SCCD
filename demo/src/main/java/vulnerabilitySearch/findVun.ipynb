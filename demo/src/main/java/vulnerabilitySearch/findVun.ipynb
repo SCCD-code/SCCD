{
 "cells": [
  {
   "cell_type": "code",
   "execution_count": 2,
   "metadata": {},
   "outputs": [
    {
     "name": "stdout",
     "output_type": "stream",
     "text": [
      "(628, 7)\n"
     ]
    }
   ],
   "source": [
    "import pandas as pd\n",
    "vunPath = \"/bdata2/yyh/demo/src/main/java/oneContract.csv\" \n",
    "vunData = pd.read_csv(vunPath,names=[\"path\",\"sl\",\"el\",\"tl\",\"tn\",\"an\",\"hash\"],header=None)\n",
    "print(vunData.shape)"
   ]
  },
  {
   "cell_type": "code",
   "execution_count": 3,
   "metadata": {},
   "outputs": [
    {
     "name": "stdout",
     "output_type": "stream",
     "text": [
      "(445, 7)\n"
     ]
    }
   ],
   "source": [
    "hashSet = set()\n",
    "newVunData = pd.DataFrame({\"path\":[],\"sl\":[],\"el\":[],\"tl\":[],\"tn\":[],\"an\":[],\"hash\":[]})\n",
    "for i in range(len(vunData)):\n",
    "    if(hashSet.__contains__(vunData.loc[i, \"hash\"])):\n",
    "        continue\n",
    "    hashSet.add(vunData.loc[i, \"hash\"])\n",
    "    newVunData.loc[len(newVunData)] = vunData.loc[i]\n",
    "\n",
    "print(newVunData.shape)"
   ]
  },
  {
   "cell_type": "code",
   "execution_count": 3,
   "metadata": {},
   "outputs": [
    {
     "data": {
      "text/plain": [
       "'vulnerabilities/CV/old_blockhash.sol'"
      ]
     },
     "execution_count": 3,
     "metadata": {},
     "output_type": "execute_result"
    }
   ],
   "source": [
    "newVunData.loc[0, \"path\"]"
   ]
  },
  {
   "cell_type": "code",
   "execution_count": 5,
   "metadata": {},
   "outputs": [
    {
     "name": "stdout",
     "output_type": "stream",
     "text": [
      "445\n"
     ]
    }
   ],
   "source": [
    "newVunData.head()\n",
    "newVunDataSet = set()\n",
    "for i in range(len(newVunData)):\n",
    "    newVunDataSet.add(hash(newVunData.loc[i, \"path\"]+str(newVunData.loc[i, \"sl\"])))\n",
    "print(len(newVunDataSet))"
   ]
  },
  {
   "cell_type": "code",
   "execution_count": 6,
   "metadata": {},
   "outputs": [
    {
     "name": "stdout",
     "output_type": "stream",
     "text": [
      "(1755424, 5)\n",
      "(1755424, 4)\n"
     ]
    }
   ],
   "source": [
    "allConMapPath = \"/bdata2/yyh/output/contract_clone/allFunctionMap.csv\"  \n",
    "allConMap = pd.read_csv(allConMapPath,names=[\"id\",\"path\",\"sl\",\"el\",\"tl\"],header=None)\n",
    "print(allConMap.shape)\n",
    "allConMap.set_index(['id'], inplace = True)\n",
    "print(allConMap.shape)"
   ]
  },
  {
   "cell_type": "code",
   "execution_count": 6,
   "metadata": {},
   "outputs": [
    {
     "name": "stdout",
     "output_type": "stream",
     "text": [
      "                                                 path  sl  el  tl\n",
      "id                                                               \n",
      "0            openzeppelin/1.1.0/6_CappedCrowdsale.sol  10  33  15\n",
      "1               openzeppelin/1.1.0/34_SimpleToken.sol  13  28  10\n",
      "2   ethereum/contracts/mainnet/db/dbe0c9d6b3f5beef...   8  26  15\n",
      "3   ethereum/contracts/mainnet/db/dbe0c9d6b3f5beef...  28  45  15\n",
      "4      openzeppelin/1.1.0/31_LimitedTransferToken.sol  20  57  15\n"
     ]
    }
   ],
   "source": [
    "print(allConMap.head())"
   ]
  },
  {
   "cell_type": "code",
   "execution_count": 7,
   "metadata": {},
   "outputs": [
    {
     "name": "stdout",
     "output_type": "stream",
     "text": [
      "(1058456, 2)\n"
     ]
    }
   ],
   "source": [
    "T1Path = '/bdata2/yyh/output/contract_clone/T1.csv'\n",
    "T1c = pd.read_csv(T1Path, names=[\"id1\",\"id2\"], header=None)\n",
    "print(T1c.shape)"
   ]
  },
  {
   "cell_type": "code",
   "execution_count": 8,
   "metadata": {},
   "outputs": [
    {
     "data": {
      "text/plain": [
       "1"
      ]
     },
     "execution_count": 8,
     "metadata": {},
     "output_type": "execute_result"
    }
   ],
   "source": [
    "list(allConMap.iloc[0, :4])\n",
    "T1c.loc[0, \"id1\"]"
   ]
  },
  {
   "cell_type": "code",
   "execution_count": 10,
   "metadata": {},
   "outputs": [
    {
     "data": {
      "text/plain": [
       "{'arbitrum': 26,\n",
       " 'avalanche': 133,\n",
       " 'celo': 5,\n",
       " 'fantom': 657,\n",
       " 'optimism': 38,\n",
       " 'polygon': 282,\n",
       " 'tron': 936,\n",
       " 'openzeppelin': 37,\n",
       " 'vulnerabilities': 183,\n",
       " 'bsc': 868,\n",
       " 'ethereum': 20507}"
      ]
     },
     "execution_count": 10,
     "metadata": {},
     "output_type": "execute_result"
    }
   ],
   "source": [
    "vunCnt = {'arbitrum':0,'avalanche':0,'celo':0,'fantom':0,'optimism':0,'polygon':0,'tron':0,'openzeppelin':0,'vulnerabilities':0,'bsc':0,'ethereum':0}\n",
    "clus = T1c.loc[0, \"id1\"]\n",
    "clus_ls = [clus, T1c.loc[0, \"id2\"]]\n",
    "for i in range(1, len(T1c)):\n",
    "    id1 = T1c.loc[i, \"id1\"]\n",
    "    id2 = T1c.loc[i, \"id2\"]\n",
    "    if(id1 == clus):\n",
    "        clus_ls.append(id2)\n",
    "    else:\n",
    "        tmpCnt = 0\n",
    "        for id in clus_ls:\n",
    "            con_info = hash(allConMap.loc[id, \"path\"]+str(allConMap.loc[id, \"sl\"]))\n",
    "            p = allConMap.loc[id, \"path\"].split('/')[0]\n",
    "            if(con_info in newVunDataSet):\n",
    "                vunCnt['vulnerabilities'] -= 1\n",
    "                tmpCnt += 1\n",
    "        for id in clus_ls:\n",
    "            p = allConMap.loc[id, \"path\"].split('/')[0]\n",
    "            vunCnt[p] += tmpCnt\n",
    "        clus = id1\n",
    "        clus_ls = [id1, id2]\n",
    "\n",
    "vunCnt"
   ]
  },
  {
   "cell_type": "code",
   "execution_count": 12,
   "metadata": {},
   "outputs": [
    {
     "name": "stdout",
     "output_type": "stream",
     "text": [
      "(1432226, 2)\n"
     ]
    },
    {
     "data": {
      "text/plain": [
       "{'arbitrum': 27,\n",
       " 'avalanche': 140,\n",
       " 'celo': 7,\n",
       " 'fantom': 673,\n",
       " 'optimism': 41,\n",
       " 'polygon': 370,\n",
       " 'tron': 1110,\n",
       " 'openzeppelin': 38,\n",
       " 'vulnerabilities': 529,\n",
       " 'bsc': 1339,\n",
       " 'ethereum': 27125}"
      ]
     },
     "execution_count": 12,
     "metadata": {},
     "output_type": "execute_result"
    }
   ],
   "source": [
    "T2Path = '/bdata2/yyh/output/contract_clone/T2.csv'\n",
    "T2 = pd.read_csv(T2Path, names=[\"id1\",\"id2\"], header=None)\n",
    "print(T2.shape)\n",
    "\n",
    "vunCnt2 = {'arbitrum':0,'avalanche':0,'celo':0,'fantom':0,'optimism':0,'polygon':0,'tron':0,'openzeppelin':0,'vulnerabilities':0,'bsc':0,'ethereum':0}\n",
    "clus = T2.loc[0, \"id1\"]\n",
    "clus_ls = [clus, T2.loc[0, \"id2\"]]\n",
    "for i in range(1, len(T2)):\n",
    "    id1 = T2.loc[i, \"id1\"]\n",
    "    id2 = T2.loc[i, \"id2\"]\n",
    "    if(id1 == clus):\n",
    "        clus_ls.append(id2)\n",
    "    else:\n",
    "        tmpCnt = 0\n",
    "        for id in clus_ls:\n",
    "            con_info = hash(allConMap.loc[id, \"path\"]+str(allConMap.loc[id, \"sl\"]))\n",
    "            p = allConMap.loc[id, \"path\"].split('/')[0]\n",
    "            if(con_info in newVunDataSet):\n",
    "                vunCnt2['vulnerabilities'] -= 1\n",
    "                tmpCnt += 1\n",
    "        for id in clus_ls:\n",
    "            p = allConMap.loc[id, \"path\"].split('/')[0]\n",
    "            vunCnt2[p] += tmpCnt\n",
    "        clus = id1\n",
    "        clus_ls = [id1, id2]\n",
    "\n",
    "vunCnt2"
   ]
  }
 ],
 "metadata": {
  "kernelspec": {
   "display_name": "base",
   "language": "python",
   "name": "python3"
  },
  "language_info": {
   "codemirror_mode": {
    "name": "ipython",
    "version": 3
   },
   "file_extension": ".py",
   "mimetype": "text/x-python",
   "name": "python",
   "nbconvert_exporter": "python",
   "pygments_lexer": "ipython3",
   "version": "3.8.13"
  },
  "orig_nbformat": 4
 },
 "nbformat": 4,
 "nbformat_minor": 2
}
